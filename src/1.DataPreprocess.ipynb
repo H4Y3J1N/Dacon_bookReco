{
 "cells": [
  {
   "cell_type": "code",
   "execution_count": 1,
   "id": "0916e04c",
   "metadata": {},
   "outputs": [
    {
     "name": "stderr",
     "output_type": "stream",
     "text": [
      "2023-05-04 12:29:31.769851: I tensorflow/core/util/port.cc:110] oneDNN custom operations are on. You may see slightly different numerical results due to floating-point round-off errors from different computation orders. To turn them off, set the environment variable `TF_ENABLE_ONEDNN_OPTS=0`.\n",
      "2023-05-04 12:29:33.199596: I tensorflow/core/platform/cpu_feature_guard.cc:182] This TensorFlow binary is optimized to use available CPU instructions in performance-critical operations.\n",
      "To enable the following instructions: AVX2 AVX512F AVX512_VNNI FMA, in other operations, rebuild TensorFlow with the appropriate compiler flags.\n",
      "2023-05-04 12:29:35.966213: W tensorflow/compiler/tf2tensorrt/utils/py_utils.cc:38] TF-TRT Warning: Could not find TensorRT\n"
     ]
    }
   ],
   "source": [
    "import pandas as pd\n",
    "import re\n",
    "import string\n",
    "import nltk\n",
    "import spacy"
   ]
  },
  {
   "cell_type": "markdown",
   "id": "ec57c455",
   "metadata": {},
   "source": [
    "# Book title\n",
    "\n",
    "전처리 이후 train_data['Book-Title'].nunique() >>> 205946"
   ]
  },
  {
   "cell_type": "code",
   "execution_count": 6,
   "id": "e1b01dc5",
   "metadata": {},
   "outputs": [
    {
     "name": "stderr",
     "output_type": "stream",
     "text": [
      "[nltk_data] Downloading package stopwords to\n",
      "[nltk_data]     /home/conceptelling/nltk_data...\n",
      "[nltk_data]   Package stopwords is already up-to-date!\n",
      "[nltk_data] Downloading package wordnet to\n",
      "[nltk_data]     /home/conceptelling/nltk_data...\n",
      "[nltk_data]   Package wordnet is already up-to-date!\n"
     ]
    }
   ],
   "source": [
    "# 필요한 컴포넌트를 다운로드합니다.\n",
    "nltk.download(\"stopwords\")\n",
    "nltk.download(\"wordnet\")\n",
    "\n",
    "# NLTK의 불용어 리스트를 불러옵니다.\n",
    "from nltk.corpus import stopwords\n",
    "\n",
    "# spaCy의 영어 NLP 모델을 로드합니다.\n",
    "nlp = spacy.load(\"en_core_web_sm\")"
   ]
  },
  {
   "cell_type": "code",
   "execution_count": 7,
   "id": "81fbccda",
   "metadata": {},
   "outputs": [],
   "source": [
    "# 예제 데이터셋을 생성합니다.\n",
    "train_data = pd.read_csv(\"./data/test.csv\")\n",
    "df = pd.DataFrame(train_data[[\"Book-ID\",\"Book-Title\"]])"
   ]
  },
  {
   "cell_type": "code",
   "execution_count": 8,
   "id": "853e6220",
   "metadata": {},
   "outputs": [],
   "source": [
    "# 소문자 변환 함수\n",
    "def to_lowercase(text):\n",
    "    return text.lower()\n",
    "\n",
    "# 특수 문자 확인 함수\n",
    "def check_special_chars(text):\n",
    "    return set(re.findall(r\"[{}]\".format(string.punctuation), text))\n",
    "\n",
    "# 특수 문자 제거 함수\n",
    "def remove_special_chars(text):\n",
    "    return re.sub(r\"[{}]\".format(string.punctuation), \"\", text)\n",
    "\n",
    "# 불용어 제거 함수\n",
    "def remove_stopwords(text):\n",
    "    stop_words = set(stopwords.words(\"english\"))\n",
    "    return \" \".join([word for word in text.split() if word not in stop_words])\n",
    "\n",
    "# 표제어 추출 함수\n",
    "def lemmatize(text):\n",
    "    doc = nlp(text)\n",
    "    return \" \".join([token.lemma_ for token in doc])"
   ]
  },
  {
   "cell_type": "code",
   "execution_count": 9,
   "id": "40a9ecb7",
   "metadata": {},
   "outputs": [],
   "source": [
    "# 데이터 프레임에 적용\n",
    "df[\"Book-Title_lower\"] = df[\"Book-Title\"].apply(to_lowercase)\n",
    "df[\"Book-Title_special_chars\"] = df[\"Book-Title_lower\"].apply(check_special_chars)\n",
    "df[\"Book-Title_no_special_chars\"] = df[\"Book-Title_lower\"].apply(remove_special_chars)\n",
    "df[\"Book-Title_no_stopwords\"] = df[\"Book-Title_no_special_chars\"].apply(remove_stopwords)\n",
    "df[\"Book-Title_lemmatized\"] = df[\"Book-Title_no_stopwords\"].apply(lemmatize)"
   ]
  },
  {
   "cell_type": "code",
   "execution_count": 11,
   "id": "d2a7ed8f",
   "metadata": {},
   "outputs": [
    {
     "name": "stderr",
     "output_type": "stream",
     "text": [
      "/home/conceptelling/miniconda3/lib/python3.10/site-packages/pandas/core/frame.py:5039: SettingWithCopyWarning: \n",
      "A value is trying to be set on a copy of a slice from a DataFrame\n",
      "\n",
      "See the caveats in the documentation: https://pandas.pydata.org/pandas-docs/stable/user_guide/indexing.html#returning-a-view-versus-a-copy\n",
      "  return super().rename(\n"
     ]
    }
   ],
   "source": [
    "bookTitle_prePro_selected = df[[\"Book-Title_lemmatized\"]]\n",
    "bookTitle_prePro_selected.rename(columns={'Book-Title_lemmatized': 'Book-Title'}, inplace=True)\n",
    "train_data.update(bookTitle_prePro_selected)"
   ]
  },
  {
   "cell_type": "code",
   "execution_count": 12,
   "id": "898e634e",
   "metadata": {},
   "outputs": [
    {
     "data": {
      "text/html": [
       "<div>\n",
       "<style scoped>\n",
       "    .dataframe tbody tr th:only-of-type {\n",
       "        vertical-align: middle;\n",
       "    }\n",
       "\n",
       "    .dataframe tbody tr th {\n",
       "        vertical-align: top;\n",
       "    }\n",
       "\n",
       "    .dataframe thead th {\n",
       "        text-align: right;\n",
       "    }\n",
       "</style>\n",
       "<table border=\"1\" class=\"dataframe\">\n",
       "  <thead>\n",
       "    <tr style=\"text-align: right;\">\n",
       "      <th></th>\n",
       "      <th>ID</th>\n",
       "      <th>User-ID</th>\n",
       "      <th>Book-ID</th>\n",
       "      <th>Age</th>\n",
       "      <th>Location</th>\n",
       "      <th>Book-Title</th>\n",
       "      <th>Book-Author</th>\n",
       "      <th>Year-Of-Publication</th>\n",
       "      <th>Publisher</th>\n",
       "    </tr>\n",
       "  </thead>\n",
       "  <tbody>\n",
       "    <tr>\n",
       "      <th>0</th>\n",
       "      <td>TEST_000000</td>\n",
       "      <td>USER_00008</td>\n",
       "      <td>BOOK_047966</td>\n",
       "      <td>37.0</td>\n",
       "      <td>vermilion, ohio, usa</td>\n",
       "      <td>bird prey novel suspense</td>\n",
       "      <td>J.A. Jance</td>\n",
       "      <td>2002.0</td>\n",
       "      <td>Avon</td>\n",
       "    </tr>\n",
       "    <tr>\n",
       "      <th>1</th>\n",
       "      <td>TEST_000001</td>\n",
       "      <td>USER_00008</td>\n",
       "      <td>BOOK_119494</td>\n",
       "      <td>37.0</td>\n",
       "      <td>vermilion, ohio, usa</td>\n",
       "      <td>midnight voice</td>\n",
       "      <td>JOHN SAUL</td>\n",
       "      <td>2003.0</td>\n",
       "      <td>Ballantine Books</td>\n",
       "    </tr>\n",
       "    <tr>\n",
       "      <th>2</th>\n",
       "      <td>TEST_000002</td>\n",
       "      <td>USER_00008</td>\n",
       "      <td>BOOK_151775</td>\n",
       "      <td>37.0</td>\n",
       "      <td>vermilion, ohio, usa</td>\n",
       "      <td>break free prescription personal organizationa...</td>\n",
       "      <td>David M.  Noer</td>\n",
       "      <td>1996.0</td>\n",
       "      <td>Jossey-Bass</td>\n",
       "    </tr>\n",
       "    <tr>\n",
       "      <th>3</th>\n",
       "      <td>TEST_000003</td>\n",
       "      <td>USER_00008</td>\n",
       "      <td>BOOK_176255</td>\n",
       "      <td>37.0</td>\n",
       "      <td>vermilion, ohio, usa</td>\n",
       "      <td>bitter harvest</td>\n",
       "      <td>Ann Rule</td>\n",
       "      <td>1999.0</td>\n",
       "      <td>Pocket</td>\n",
       "    </tr>\n",
       "    <tr>\n",
       "      <th>4</th>\n",
       "      <td>TEST_000004</td>\n",
       "      <td>USER_00008</td>\n",
       "      <td>BOOK_187307</td>\n",
       "      <td>37.0</td>\n",
       "      <td>vermilion, ohio, usa</td>\n",
       "      <td>embrace light</td>\n",
       "      <td>Betty J. Eadie</td>\n",
       "      <td>1994.0</td>\n",
       "      <td>Bantam Books</td>\n",
       "    </tr>\n",
       "    <tr>\n",
       "      <th>...</th>\n",
       "      <td>...</td>\n",
       "      <td>...</td>\n",
       "      <td>...</td>\n",
       "      <td>...</td>\n",
       "      <td>...</td>\n",
       "      <td>...</td>\n",
       "      <td>...</td>\n",
       "      <td>...</td>\n",
       "      <td>...</td>\n",
       "    </tr>\n",
       "    <tr>\n",
       "      <th>159616</th>\n",
       "      <td>TEST_159616</td>\n",
       "      <td>USER_92086</td>\n",
       "      <td>BOOK_159050</td>\n",
       "      <td>0.0</td>\n",
       "      <td>mountain view, california, usa</td>\n",
       "      <td>fat flush plan</td>\n",
       "      <td>Ann Louise Gittleman</td>\n",
       "      <td>2001.0</td>\n",
       "      <td>McGraw-Hill/Contemporary Books</td>\n",
       "    </tr>\n",
       "    <tr>\n",
       "      <th>159617</th>\n",
       "      <td>TEST_159617</td>\n",
       "      <td>USER_92086</td>\n",
       "      <td>BOOK_196481</td>\n",
       "      <td>0.0</td>\n",
       "      <td>mountain view, california, usa</td>\n",
       "      <td>die alone wwii epic escape endurance</td>\n",
       "      <td>David Howarth</td>\n",
       "      <td>1999.0</td>\n",
       "      <td>The Lyons Press</td>\n",
       "    </tr>\n",
       "    <tr>\n",
       "      <th>159618</th>\n",
       "      <td>TEST_159618</td>\n",
       "      <td>USER_92086</td>\n",
       "      <td>BOOK_199754</td>\n",
       "      <td>0.0</td>\n",
       "      <td>mountain view, california, usa</td>\n",
       "      <td>60 yard master golfs short game</td>\n",
       "      <td>Raymond Floyd</td>\n",
       "      <td>1992.0</td>\n",
       "      <td>Perennial</td>\n",
       "    </tr>\n",
       "    <tr>\n",
       "      <th>159619</th>\n",
       "      <td>TEST_159619</td>\n",
       "      <td>USER_92086</td>\n",
       "      <td>BOOK_227481</td>\n",
       "      <td>0.0</td>\n",
       "      <td>mountain view, california, usa</td>\n",
       "      <td>solo adventure</td>\n",
       "      <td>Susan Fox Rogers</td>\n",
       "      <td>1996.0</td>\n",
       "      <td>Seal Press (WA)</td>\n",
       "    </tr>\n",
       "    <tr>\n",
       "      <th>159620</th>\n",
       "      <td>TEST_159620</td>\n",
       "      <td>USER_92086</td>\n",
       "      <td>BOOK_237054</td>\n",
       "      <td>0.0</td>\n",
       "      <td>mountain view, california, usa</td>\n",
       "      <td>avalanche safety skier amp climber</td>\n",
       "      <td>Tony Daffern</td>\n",
       "      <td>1999.0</td>\n",
       "      <td>Mountaineers Books</td>\n",
       "    </tr>\n",
       "  </tbody>\n",
       "</table>\n",
       "<p>159621 rows × 9 columns</p>\n",
       "</div>"
      ],
      "text/plain": [
       "                 ID     User-ID      Book-ID   Age  \\\n",
       "0       TEST_000000  USER_00008  BOOK_047966  37.0   \n",
       "1       TEST_000001  USER_00008  BOOK_119494  37.0   \n",
       "2       TEST_000002  USER_00008  BOOK_151775  37.0   \n",
       "3       TEST_000003  USER_00008  BOOK_176255  37.0   \n",
       "4       TEST_000004  USER_00008  BOOK_187307  37.0   \n",
       "...             ...         ...          ...   ...   \n",
       "159616  TEST_159616  USER_92086  BOOK_159050   0.0   \n",
       "159617  TEST_159617  USER_92086  BOOK_196481   0.0   \n",
       "159618  TEST_159618  USER_92086  BOOK_199754   0.0   \n",
       "159619  TEST_159619  USER_92086  BOOK_227481   0.0   \n",
       "159620  TEST_159620  USER_92086  BOOK_237054   0.0   \n",
       "\n",
       "                              Location  \\\n",
       "0                 vermilion, ohio, usa   \n",
       "1                 vermilion, ohio, usa   \n",
       "2                 vermilion, ohio, usa   \n",
       "3                 vermilion, ohio, usa   \n",
       "4                 vermilion, ohio, usa   \n",
       "...                                ...   \n",
       "159616  mountain view, california, usa   \n",
       "159617  mountain view, california, usa   \n",
       "159618  mountain view, california, usa   \n",
       "159619  mountain view, california, usa   \n",
       "159620  mountain view, california, usa   \n",
       "\n",
       "                                               Book-Title  \\\n",
       "0                                bird prey novel suspense   \n",
       "1                                          midnight voice   \n",
       "2       break free prescription personal organizationa...   \n",
       "3                                          bitter harvest   \n",
       "4                                           embrace light   \n",
       "...                                                   ...   \n",
       "159616                                     fat flush plan   \n",
       "159617               die alone wwii epic escape endurance   \n",
       "159618                    60 yard master golfs short game   \n",
       "159619                                     solo adventure   \n",
       "159620                 avalanche safety skier amp climber   \n",
       "\n",
       "                 Book-Author  Year-Of-Publication  \\\n",
       "0                 J.A. Jance               2002.0   \n",
       "1                  JOHN SAUL               2003.0   \n",
       "2             David M.  Noer               1996.0   \n",
       "3                   Ann Rule               1999.0   \n",
       "4             Betty J. Eadie               1994.0   \n",
       "...                      ...                  ...   \n",
       "159616  Ann Louise Gittleman               2001.0   \n",
       "159617         David Howarth               1999.0   \n",
       "159618         Raymond Floyd               1992.0   \n",
       "159619      Susan Fox Rogers               1996.0   \n",
       "159620          Tony Daffern               1999.0   \n",
       "\n",
       "                             Publisher  \n",
       "0                                 Avon  \n",
       "1                     Ballantine Books  \n",
       "2                          Jossey-Bass  \n",
       "3                               Pocket  \n",
       "4                         Bantam Books  \n",
       "...                                ...  \n",
       "159616  McGraw-Hill/Contemporary Books  \n",
       "159617                 The Lyons Press  \n",
       "159618                       Perennial  \n",
       "159619                 Seal Press (WA)  \n",
       "159620              Mountaineers Books  \n",
       "\n",
       "[159621 rows x 9 columns]"
      ]
     },
     "execution_count": 12,
     "metadata": {},
     "output_type": "execute_result"
    }
   ],
   "source": [
    "train_data"
   ]
  },
  {
   "cell_type": "markdown",
   "id": "67252948",
   "metadata": {},
   "source": [
    "word2vec 임베딩으로 변환. 다만 이 작업은 전략적으로 고려했을 때, Book Node ID로 Feature matrix 정렬이 되고 난 다음이 유리함.\n",
    "* 따라서 여기서 중단!"
   ]
  },
  {
   "cell_type": "markdown",
   "id": "ab545c06",
   "metadata": {},
   "source": [
    "# Location"
   ]
  },
  {
   "cell_type": "code",
   "execution_count": 17,
   "id": "774cce2b",
   "metadata": {},
   "outputs": [],
   "source": [
    "import pickle\n",
    "\n",
    "# 마지막 나라만 가져온다.\n",
    "train_data['Location'] = train_data['Location'].apply(lambda x: x.split(', ')[-1].strip())\n",
    "\n",
    "with open(\"./data/country_name_mapping.pkl\", \"rb\") as f:\n",
    "    country_name_mapping = pickle.load(f)\n",
    "    \n",
    "# 'location' 열의 값을 국가 이름으로 변경\n",
    "train_data['Location'] = train_data['Location'].apply(lambda x: country_name_mapping.get(x, x))"
   ]
  },
  {
   "cell_type": "markdown",
   "id": "905cbd04",
   "metadata": {},
   "source": [
    "# Age, Year-Of-Publication"
   ]
  },
  {
   "cell_type": "code",
   "execution_count": 18,
   "id": "39cf51f9",
   "metadata": {},
   "outputs": [],
   "source": [
    "from sklearn.preprocessing import MinMaxScaler\n",
    "\n",
    "# Min-Max 스케일링을 적용할 피처 선택\n",
    "features_to_scale = ['Age', 'Year-Of-Publication']\n",
    "\n",
    "# MinMaxScaler 객체 생성\n",
    "scaler = MinMaxScaler()\n",
    "\n",
    "# Min-Max 스케일링 적용\n",
    "train_data[features_to_scale] = scaler.fit_transform(train_data[features_to_scale])"
   ]
  },
  {
   "cell_type": "markdown",
   "id": "36964434",
   "metadata": {},
   "source": [
    "# Book-Author\n",
    "Publisher_list = train_data[\"Book-Author\"].unique().tolist() >>> 92,635     \n",
    "지나치게 sparse"
   ]
  },
  {
   "cell_type": "markdown",
   "id": "3ecbbcf2",
   "metadata": {},
   "source": [
    "# Publisher"
   ]
  },
  {
   "cell_type": "code",
   "execution_count": 19,
   "id": "4c4d35b7",
   "metadata": {},
   "outputs": [
    {
     "name": "stderr",
     "output_type": "stream",
     "text": [
      "/tmp/ipykernel_2778/2517125782.py:2: FutureWarning: The default value of regex will change from True to False in a future version.\n",
      "  train_data['Publisher'] =train_data['Publisher'].str.replace('[^a-zA-Z0-9\\s]+', '').str.lower()\n"
     ]
    }
   ],
   "source": [
    "# remove special characters and convert to lowercase\n",
    "train_data['Publisher'] =train_data['Publisher'].str.replace('[^a-zA-Z0-9\\s]+', '').str.lower()\n",
    "\n",
    "# remove leading and trailing whitespaces\n",
    "train_data['Publisher'] = train_data['Publisher'].str.strip()\n",
    "\n",
    "# get the number of unique publishers\n",
    "# num_publishers = train_data['Publisher'].nunique()"
   ]
  },
  {
   "cell_type": "code",
   "execution_count": 20,
   "id": "2bdf2fb5",
   "metadata": {},
   "outputs": [
    {
     "data": {
      "text/plain": [
       "6420"
      ]
     },
     "execution_count": 20,
     "metadata": {},
     "output_type": "execute_result"
    }
   ],
   "source": [
    "train_data['Publisher'].nunique()"
   ]
  },
  {
   "cell_type": "code",
   "execution_count": 21,
   "id": "d40aad22",
   "metadata": {},
   "outputs": [],
   "source": [
    "top_publishers = train_data['Publisher'].value_counts()"
   ]
  },
  {
   "cell_type": "code",
   "execution_count": 22,
   "id": "cc660905",
   "metadata": {},
   "outputs": [
    {
     "data": {
      "text/plain": [
       "ballantine books                       5028\n",
       "berkley publishing group               4967\n",
       "pocket                                 4777\n",
       "warner books                           4237\n",
       "harlequin                              3668\n",
       "                                       ... \n",
       "mit press                                 2\n",
       "scepter publishers inc                    2\n",
       "hayden book co                            2\n",
       "dundurn press                             2\n",
       "elsevier science health science div       2\n",
       "Name: Publisher, Length: 3000, dtype: int64"
      ]
     },
     "execution_count": 22,
     "metadata": {},
     "output_type": "execute_result"
    }
   ],
   "source": [
    "top_publishers.head(3000) #5권 이하의 책을 보유한 출판사는 전부 날려버립니다!"
   ]
  },
  {
   "cell_type": "code",
   "execution_count": 23,
   "id": "adae47d3",
   "metadata": {},
   "outputs": [
    {
     "data": {
      "text/plain": [
       "ballantine books            5028\n",
       "berkley publishing group    4967\n",
       "pocket                      4777\n",
       "warner books                4237\n",
       "harlequin                   3668\n",
       "bantam books                3554\n",
       "signet book                 3137\n",
       "bantam                      2777\n",
       "penguin books               2734\n",
       "avon                        2555\n",
       "jove books                  2411\n",
       "fawcett books               2275\n",
       "silhouette                  2232\n",
       "perennial                   2169\n",
       "dell                        2101\n",
       "harpertorch                 2025\n",
       "scholastic                  1931\n",
       "vintage books usa           1793\n",
       "simon amp schuster          1603\n",
       "harpercollins               1579\n",
       "st martins press            1561\n",
       "dell publishing company     1553\n",
       "scribner                    1325\n",
       "little brown                1321\n",
       "tor books                   1231\n",
       "penguin usa                 1137\n",
       "mira                        1106\n",
       "del rey books               1098\n",
       "random house inc            1043\n",
       "anchor                      1014\n",
       "plume books                  971\n",
       "ace books                    961\n",
       "zebra books                  865\n",
       "harpercollins publishers     857\n",
       "vintage                      836\n",
       "ivy books                    805\n",
       "washington square press      768\n",
       "dover publications           753\n",
       "back bay books               715\n",
       "viking books                 682\n",
       "random house                 661\n",
       "st martins pr                660\n",
       "harpertrophy                 643\n",
       "bantam dell pub group        632\n",
       "putnam publishing group      619\n",
       "leisure books                609\n",
       "st martins paperbacks        605\n",
       "penguin books ltd            605\n",
       "avon books                   601\n",
       "hyperion                     596\n",
       "Name: Publisher, dtype: int64"
      ]
     },
     "execution_count": 23,
     "metadata": {},
     "output_type": "execute_result"
    }
   ],
   "source": [
    "top_publishers.head(50)  # 유사한 출판사 이름 확인"
   ]
  },
  {
   "cell_type": "code",
   "execution_count": 24,
   "id": "0c352856",
   "metadata": {},
   "outputs": [],
   "source": [
    "# 1 단어 이상 일치하면 같은 것으로 통합해버리는 map을 만들어 매핑.\n",
    "# difflib 라이브러리를 사용할 수도 있지만, time cost가 너무 크다.\n",
    "\n",
    "def create_publisher_map(publisher_list):\n",
    "    publisher_map = {}\n",
    "    for publisher in publisher_list:\n",
    "        words = publisher.split()\n",
    "        for word in words:\n",
    "            if word not in publisher_map:\n",
    "                publisher_map[word] = publisher\n",
    "            else:\n",
    "                if len(publisher) < len(publisher_map[word]):\n",
    "                    publisher_map[word] = publisher\n",
    "    return publisher_map\n",
    "\n",
    "def map_publisher(publisher, publisher_map):\n",
    "    words = publisher.split()\n",
    "    for word in words:\n",
    "        if word in publisher_map:\n",
    "            return publisher_map[word]\n",
    "    return publisher"
   ]
  },
  {
   "cell_type": "code",
   "execution_count": 25,
   "id": "e169f6c1",
   "metadata": {},
   "outputs": [],
   "source": [
    "unique_publishers = train_data['Publisher'].unique()\n",
    "publisher_map = create_publisher_map(unique_publishers)\n",
    "train_data['Publisher_cleaned'] = train_data['Publisher'].apply(lambda x: map_publisher(x, publisher_map))"
   ]
  },
  {
   "cell_type": "code",
   "execution_count": 26,
   "id": "2bd29366",
   "metadata": {},
   "outputs": [
    {
     "data": {
      "text/plain": [
       "3569"
      ]
     },
     "execution_count": 26,
     "metadata": {},
     "output_type": "execute_result"
    }
   ],
   "source": [
    "train_data['Publisher_cleaned'].nunique()"
   ]
  },
  {
   "cell_type": "code",
   "execution_count": 27,
   "id": "84eba9ad",
   "metadata": {},
   "outputs": [],
   "source": [
    "# 출판사 이름의 빈도수를 계산합니다.\n",
    "publisher_counts = train_data['Publisher_cleaned'].value_counts()\n",
    "\n",
    "# 빈도수가 2 이하인 출판사 이름을 찾습니다.\n",
    "rare_publishers = publisher_counts[publisher_counts <= 2].index\n",
    "\n",
    "# 빈도수가 2 이하인 출판사 이름을 'Other'로 변환합니다.\n",
    "train_data['Publisher_cleaned'] = train_data['Publisher_cleaned'].apply(lambda x: 'Other' if x in rare_publishers else x)"
   ]
  },
  {
   "cell_type": "code",
   "execution_count": 28,
   "id": "52837d81",
   "metadata": {},
   "outputs": [
    {
     "data": {
      "text/plain": [
       "1634"
      ]
     },
     "execution_count": 28,
     "metadata": {},
     "output_type": "execute_result"
    }
   ],
   "source": [
    "train_data['Publisher_cleaned'].nunique()"
   ]
  },
  {
   "cell_type": "code",
   "execution_count": 29,
   "id": "a8109a5b",
   "metadata": {},
   "outputs": [
    {
     "data": {
      "text/plain": [
       "bantam                   7855\n",
       "pocket                   5773\n",
       "penguin                  5473\n",
       "berkley                  5304\n",
       "warner                   5276\n",
       "ballantine               5047\n",
       "harlequin                3771\n",
       "dell                     3723\n",
       "st martins               3620\n",
       "signet                   3494\n",
       "avon                     3346\n",
       "random house             3218\n",
       "scholastic               2816\n",
       "harpercollins            2790\n",
       "vintage                  2733\n",
       "fawcett                  2534\n",
       "simon pulse              2483\n",
       "jove                     2480\n",
       "Other                    2476\n",
       "perennial                2393\n",
       "silhouette               2245\n",
       "harpertorch              2025\n",
       "little brown             1828\n",
       "tor                      1711\n",
       "del rey                  1694\n",
       "anchor                   1529\n",
       "scribner                 1446\n",
       "mira                     1286\n",
       "putnam                   1256\n",
       "new press                1234\n",
       "ace                      1024\n",
       "plume                     978\n",
       "doubleday                 898\n",
       "hyperion                  897\n",
       "zebra books               880\n",
       "harper                    856\n",
       "viking                    810\n",
       "ivy books                 805\n",
       "william morrow            789\n",
       "dover                     782\n",
       "univ of washington pr     770\n",
       "kensington books          735\n",
       "back bay books            716\n",
       "yearling                  668\n",
       "houghton mifflin          653\n",
       "harpertrophy              643\n",
       "leisure arts              634\n",
       "trafalgar square          612\n",
       "w morrow                  605\n",
       "touchstone                584\n",
       "Name: Publisher_cleaned, dtype: int64"
      ]
     },
     "execution_count": 29,
     "metadata": {},
     "output_type": "execute_result"
    }
   ],
   "source": [
    "train_data['Publisher_cleaned'].value_counts().head(50)  # 정리된 것 확인."
   ]
  },
  {
   "cell_type": "code",
   "execution_count": 30,
   "id": "48e3d0a3",
   "metadata": {},
   "outputs": [],
   "source": [
    "train_data.drop([\"Publisher\"],axis=1,inplace=True)"
   ]
  },
  {
   "cell_type": "code",
   "execution_count": 31,
   "id": "b66636ea",
   "metadata": {},
   "outputs": [],
   "source": [
    "train_data.rename(columns={'Publisher_cleaned': 'Publisher'}, inplace=True)"
   ]
  },
  {
   "cell_type": "markdown",
   "id": "9f1fd4c3",
   "metadata": {},
   "source": [
    "# Done!"
   ]
  },
  {
   "cell_type": "code",
   "execution_count": 32,
   "id": "26aea487",
   "metadata": {},
   "outputs": [
    {
     "data": {
      "text/html": [
       "<div>\n",
       "<style scoped>\n",
       "    .dataframe tbody tr th:only-of-type {\n",
       "        vertical-align: middle;\n",
       "    }\n",
       "\n",
       "    .dataframe tbody tr th {\n",
       "        vertical-align: top;\n",
       "    }\n",
       "\n",
       "    .dataframe thead th {\n",
       "        text-align: right;\n",
       "    }\n",
       "</style>\n",
       "<table border=\"1\" class=\"dataframe\">\n",
       "  <thead>\n",
       "    <tr style=\"text-align: right;\">\n",
       "      <th></th>\n",
       "      <th>ID</th>\n",
       "      <th>User-ID</th>\n",
       "      <th>Book-ID</th>\n",
       "      <th>Age</th>\n",
       "      <th>Location</th>\n",
       "      <th>Book-Title</th>\n",
       "      <th>Book-Author</th>\n",
       "      <th>Year-Of-Publication</th>\n",
       "      <th>Publisher</th>\n",
       "    </tr>\n",
       "  </thead>\n",
       "  <tbody>\n",
       "    <tr>\n",
       "      <th>0</th>\n",
       "      <td>TEST_000000</td>\n",
       "      <td>USER_00008</td>\n",
       "      <td>BOOK_047966</td>\n",
       "      <td>0.156118</td>\n",
       "      <td>United States</td>\n",
       "      <td>bird prey novel suspense</td>\n",
       "      <td>J.A. Jance</td>\n",
       "      <td>0.990603</td>\n",
       "      <td>avon</td>\n",
       "    </tr>\n",
       "    <tr>\n",
       "      <th>1</th>\n",
       "      <td>TEST_000001</td>\n",
       "      <td>USER_00008</td>\n",
       "      <td>BOOK_119494</td>\n",
       "      <td>0.156118</td>\n",
       "      <td>United States</td>\n",
       "      <td>midnight voice</td>\n",
       "      <td>JOHN SAUL</td>\n",
       "      <td>0.991098</td>\n",
       "      <td>ballantine</td>\n",
       "    </tr>\n",
       "    <tr>\n",
       "      <th>2</th>\n",
       "      <td>TEST_000002</td>\n",
       "      <td>USER_00008</td>\n",
       "      <td>BOOK_151775</td>\n",
       "      <td>0.156118</td>\n",
       "      <td>United States</td>\n",
       "      <td>break free prescription personal organizationa...</td>\n",
       "      <td>David M.  Noer</td>\n",
       "      <td>0.987636</td>\n",
       "      <td>josseybass</td>\n",
       "    </tr>\n",
       "    <tr>\n",
       "      <th>3</th>\n",
       "      <td>TEST_000003</td>\n",
       "      <td>USER_00008</td>\n",
       "      <td>BOOK_176255</td>\n",
       "      <td>0.156118</td>\n",
       "      <td>United States</td>\n",
       "      <td>bitter harvest</td>\n",
       "      <td>Ann Rule</td>\n",
       "      <td>0.989120</td>\n",
       "      <td>pocket</td>\n",
       "    </tr>\n",
       "    <tr>\n",
       "      <th>4</th>\n",
       "      <td>TEST_000004</td>\n",
       "      <td>USER_00008</td>\n",
       "      <td>BOOK_187307</td>\n",
       "      <td>0.156118</td>\n",
       "      <td>United States</td>\n",
       "      <td>embrace light</td>\n",
       "      <td>Betty J. Eadie</td>\n",
       "      <td>0.986647</td>\n",
       "      <td>bantam</td>\n",
       "    </tr>\n",
       "    <tr>\n",
       "      <th>...</th>\n",
       "      <td>...</td>\n",
       "      <td>...</td>\n",
       "      <td>...</td>\n",
       "      <td>...</td>\n",
       "      <td>...</td>\n",
       "      <td>...</td>\n",
       "      <td>...</td>\n",
       "      <td>...</td>\n",
       "      <td>...</td>\n",
       "    </tr>\n",
       "    <tr>\n",
       "      <th>159616</th>\n",
       "      <td>TEST_159616</td>\n",
       "      <td>USER_92086</td>\n",
       "      <td>BOOK_159050</td>\n",
       "      <td>0.000000</td>\n",
       "      <td>United States</td>\n",
       "      <td>fat flush plan</td>\n",
       "      <td>Ann Louise Gittleman</td>\n",
       "      <td>0.990109</td>\n",
       "      <td>mcgrawhillcontemporary</td>\n",
       "    </tr>\n",
       "    <tr>\n",
       "      <th>159617</th>\n",
       "      <td>TEST_159617</td>\n",
       "      <td>USER_92086</td>\n",
       "      <td>BOOK_196481</td>\n",
       "      <td>0.000000</td>\n",
       "      <td>United States</td>\n",
       "      <td>die alone wwii epic escape endurance</td>\n",
       "      <td>David Howarth</td>\n",
       "      <td>0.989120</td>\n",
       "      <td>the museum</td>\n",
       "    </tr>\n",
       "    <tr>\n",
       "      <th>159618</th>\n",
       "      <td>TEST_159618</td>\n",
       "      <td>USER_92086</td>\n",
       "      <td>BOOK_199754</td>\n",
       "      <td>0.000000</td>\n",
       "      <td>United States</td>\n",
       "      <td>60 yard master golfs short game</td>\n",
       "      <td>Raymond Floyd</td>\n",
       "      <td>0.985658</td>\n",
       "      <td>perennial</td>\n",
       "    </tr>\n",
       "    <tr>\n",
       "      <th>159619</th>\n",
       "      <td>TEST_159619</td>\n",
       "      <td>USER_92086</td>\n",
       "      <td>BOOK_227481</td>\n",
       "      <td>0.000000</td>\n",
       "      <td>United States</td>\n",
       "      <td>solo adventure</td>\n",
       "      <td>Susan Fox Rogers</td>\n",
       "      <td>0.987636</td>\n",
       "      <td>seal press</td>\n",
       "    </tr>\n",
       "    <tr>\n",
       "      <th>159620</th>\n",
       "      <td>TEST_159620</td>\n",
       "      <td>USER_92086</td>\n",
       "      <td>BOOK_237054</td>\n",
       "      <td>0.000000</td>\n",
       "      <td>United States</td>\n",
       "      <td>avalanche safety skier amp climber</td>\n",
       "      <td>Tony Daffern</td>\n",
       "      <td>0.989120</td>\n",
       "      <td>mountaineers</td>\n",
       "    </tr>\n",
       "  </tbody>\n",
       "</table>\n",
       "<p>159621 rows × 9 columns</p>\n",
       "</div>"
      ],
      "text/plain": [
       "                 ID     User-ID      Book-ID       Age       Location  \\\n",
       "0       TEST_000000  USER_00008  BOOK_047966  0.156118  United States   \n",
       "1       TEST_000001  USER_00008  BOOK_119494  0.156118  United States   \n",
       "2       TEST_000002  USER_00008  BOOK_151775  0.156118  United States   \n",
       "3       TEST_000003  USER_00008  BOOK_176255  0.156118  United States   \n",
       "4       TEST_000004  USER_00008  BOOK_187307  0.156118  United States   \n",
       "...             ...         ...          ...       ...            ...   \n",
       "159616  TEST_159616  USER_92086  BOOK_159050  0.000000  United States   \n",
       "159617  TEST_159617  USER_92086  BOOK_196481  0.000000  United States   \n",
       "159618  TEST_159618  USER_92086  BOOK_199754  0.000000  United States   \n",
       "159619  TEST_159619  USER_92086  BOOK_227481  0.000000  United States   \n",
       "159620  TEST_159620  USER_92086  BOOK_237054  0.000000  United States   \n",
       "\n",
       "                                               Book-Title  \\\n",
       "0                                bird prey novel suspense   \n",
       "1                                          midnight voice   \n",
       "2       break free prescription personal organizationa...   \n",
       "3                                          bitter harvest   \n",
       "4                                           embrace light   \n",
       "...                                                   ...   \n",
       "159616                                     fat flush plan   \n",
       "159617               die alone wwii epic escape endurance   \n",
       "159618                    60 yard master golfs short game   \n",
       "159619                                     solo adventure   \n",
       "159620                 avalanche safety skier amp climber   \n",
       "\n",
       "                 Book-Author  Year-Of-Publication               Publisher  \n",
       "0                 J.A. Jance             0.990603                    avon  \n",
       "1                  JOHN SAUL             0.991098              ballantine  \n",
       "2             David M.  Noer             0.987636              josseybass  \n",
       "3                   Ann Rule             0.989120                  pocket  \n",
       "4             Betty J. Eadie             0.986647                  bantam  \n",
       "...                      ...                  ...                     ...  \n",
       "159616  Ann Louise Gittleman             0.990109  mcgrawhillcontemporary  \n",
       "159617         David Howarth             0.989120              the museum  \n",
       "159618         Raymond Floyd             0.985658               perennial  \n",
       "159619      Susan Fox Rogers             0.987636              seal press  \n",
       "159620          Tony Daffern             0.989120            mountaineers  \n",
       "\n",
       "[159621 rows x 9 columns]"
      ]
     },
     "execution_count": 32,
     "metadata": {},
     "output_type": "execute_result"
    }
   ],
   "source": [
    "train_data"
   ]
  },
  {
   "cell_type": "code",
   "execution_count": 33,
   "id": "5c989ace",
   "metadata": {},
   "outputs": [],
   "source": [
    "train_data.to_csv(\"prepro_test_data.csv\")"
   ]
  },
  {
   "cell_type": "code",
   "execution_count": null,
   "id": "584cf53f",
   "metadata": {},
   "outputs": [],
   "source": []
  }
 ],
 "metadata": {
  "kernelspec": {
   "display_name": "Python 3 (ipykernel)",
   "language": "python",
   "name": "python3"
  },
  "language_info": {
   "codemirror_mode": {
    "name": "ipython",
    "version": 3
   },
   "file_extension": ".py",
   "mimetype": "text/x-python",
   "name": "python",
   "nbconvert_exporter": "python",
   "pygments_lexer": "ipython3",
   "version": "3.10.9"
  }
 },
 "nbformat": 4,
 "nbformat_minor": 5
}
