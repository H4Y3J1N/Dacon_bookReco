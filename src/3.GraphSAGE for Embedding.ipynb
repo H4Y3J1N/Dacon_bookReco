{
 "cells": [
  {
   "cell_type": "code",
   "execution_count": 1,
   "id": "b95d5a65",
   "metadata": {},
   "outputs": [],
   "source": [
    "import pandas as pd\n",
    "import numpy as np\n",
    "import torch \n",
    "from sklearn.preprocessing import LabelEncoder\n",
    "from torch.nn import Embedding\n",
    "from torch_geometric.nn import MessagePassing\n",
    "from torch_geometric.utils import add_self_loops, degree"
   ]
  },
  {
   "cell_type": "code",
   "execution_count": 2,
   "id": "6fcea759",
   "metadata": {},
   "outputs": [
    {
     "name": "stdout",
     "output_type": "stream",
     "text": [
      "cuda\n"
     ]
    }
   ],
   "source": [
    "device = torch.device('cuda' if torch.cuda.is_available() else 'cpu')\n",
    "print(device)"
   ]
  },
  {
   "cell_type": "code",
   "execution_count": 3,
   "id": "8df8c66d",
   "metadata": {},
   "outputs": [],
   "source": [
    "dataset = pd.read_csv(\"./data/prepro_train_data.csv\")"
   ]
  },
  {
   "cell_type": "markdown",
   "id": "3d79aaaf",
   "metadata": {},
   "source": [
    "# Make Graph Component"
   ]
  },
  {
   "cell_type": "code",
   "execution_count": 4,
   "id": "710b99b5",
   "metadata": {},
   "outputs": [],
   "source": [
    "age_tensor = torch.tensor(dataset['Age'].values, dtype=torch.float32).unsqueeze(1)\n",
    "\n",
    "### Location\n",
    "# LabelEncoder를 사용해 위치 정보를 정수로 변환\n",
    "le = LabelEncoder()\n",
    "dataset['Location_encoded'] = le.fit_transform(dataset['Location'])\n",
    "\n",
    "# 임베딩 레이어 초기화\n",
    "embedding_layer = Embedding(num_embeddings=151, embedding_dim=79)\n",
    "\n",
    "# 위치 정보를 10차원 벡터로 변환\n",
    "location_embeddings = embedding_layer(torch.unsqueeze(torch.tensor(dataset['Location_encoded'].values, dtype=torch.long), dim=1))\n",
    "\n",
    "# 결과를 NumPy array로 변환\n",
    "location_embeddings = location_embeddings.detach().numpy().squeeze()\n"
   ]
  },
  {
   "cell_type": "code",
   "execution_count": 5,
   "id": "b7e711d1",
   "metadata": {},
   "outputs": [
    {
     "name": "stderr",
     "output_type": "stream",
     "text": [
      "Warning : `load_model` does not return WordVectorModel or SupervisedModel any more, but a `FastText` object which is very similar.\n"
     ]
    }
   ],
   "source": [
    "import fasttext\n",
    "# FastText 모델 로드\n",
    "fasttext_model = fasttext.load_model(\"cc.en.300.bin\")\n",
    "\n",
    "def get_title_embedding_fasttext(title):\n",
    "    if not isinstance(title, str):\n",
    "        title = \"\"\n",
    "    words = title.split()\n",
    "    if len(words) == 0:\n",
    "        return np.zeros(300)\n",
    "    embeddings = [fasttext_model.get_word_vector(word) for word in words]\n",
    "    return np.mean(embeddings, axis=0)\n",
    "title_embeddings = dataset['Book-Title'].apply(get_title_embedding_fasttext).tolist()"
   ]
  },
  {
   "cell_type": "code",
   "execution_count": 6,
   "id": "4d634b02",
   "metadata": {},
   "outputs": [],
   "source": [
    "from sklearn.decomposition import PCA\n",
    "\n",
    "# PCA 객체를 생성\n",
    "pca = PCA(n_components=50)\n",
    "\n",
    "# 평균 임베딩 벡터로 구성된 리스트를 NumPy 배열로 변환\n",
    "title_embeddings_array = np.array(title_embeddings)\n",
    "\n",
    "# 차원 축소\n",
    "reduced_title_embeddings = pca.fit_transform(title_embeddings_array)"
   ]
  },
  {
   "cell_type": "code",
   "execution_count": 7,
   "id": "39a75c05",
   "metadata": {},
   "outputs": [],
   "source": [
    "### Publisher\n",
    "# LabelEncoder를 사용해 위치 정보를 정수로 변환\n",
    "le = LabelEncoder()\n",
    "dataset['Publisher_encoded'] = le.fit_transform(dataset['Publisher'])\n",
    "\n",
    "# 임베딩 레이어 초기화\n",
    "embedding_layer = Embedding(num_embeddings=3689, embedding_dim=30)\n",
    "\n",
    "# 위치 정보를 10차원 벡터로 변환\n",
    "publisher_embeddings = embedding_layer(torch.unsqueeze(torch.tensor(dataset['Publisher_encoded'].values, dtype=torch.long), dim=1))\n",
    "\n",
    "# 결과를 NumPy array로 변환\n",
    "publisher_embeddings = publisher_embeddings.detach().numpy().squeeze()"
   ]
  },
  {
   "cell_type": "markdown",
   "id": "d656c606",
   "metadata": {},
   "source": [
    "### User-ID & Book-ID"
   ]
  },
  {
   "cell_type": "code",
   "execution_count": 8,
   "id": "33592e59",
   "metadata": {},
   "outputs": [],
   "source": [
    "### User-ID & Book-ID\n",
    "\n",
    "# User-ID 열의 unique한 값들을 리스트로 만들기  > 83256\n",
    "unique_user_ids = dataset['User-ID'].unique().tolist()\n",
    "# Book-ID 열의 unique한 값들을 리스트로 만들기 > 243441\n",
    "unique_book_ids = dataset['Book-ID'].unique().tolist()\n",
    "\n",
    "# unique_user_ids 리스트를 기반으로 DataFrame 생성\n",
    "unique_user_ids_df = pd.DataFrame(unique_user_ids, columns=['User-ID'])\n",
    "# 내림차순 정렬\n",
    "sorted_unique_user_ids_df = unique_user_ids_df.sort_values(by='User-ID', ascending=True)\n",
    "# # 인덱스를 새 column으로 추가\n",
    "sorted_unique_user_ids_df.reset_index(inplace=True, drop=False)\n",
    "sorted_unique_user_ids_df.rename(columns={'index': 'UserNodeID'}, inplace=True)\n",
    "\n",
    "# unique_book_ids 리스트를 기반으로 DataFrame 생성\n",
    "unique_book_ids_df = pd.DataFrame(unique_book_ids, columns=['Book-ID'])\n",
    "# 내림차순 정렬\n",
    "sorted_unique_book_ids_df = unique_book_ids_df.sort_values(by='Book-ID', ascending=True)\n",
    "# #인덱스를 새 column으로 추가\n",
    "sorted_unique_book_ids_df.reset_index(inplace=True, drop=True)\n",
    "sorted_unique_book_ids_df.reset_index(inplace=True, drop=False)\n",
    "sorted_unique_book_ids_df.rename(columns={'index': 'BookNodeID'}, inplace=True)\n",
    "\n",
    "# 인덱스 시작 번호를 83256으로 설정\n",
    "sorted_unique_book_ids_df['BookNodeID'] += 83256\n",
    "\n",
    "# UserNodeID  0 ~ 83255\n",
    "# BookNodeID   83256 ~ 326696"
   ]
  },
  {
   "cell_type": "code",
   "execution_count": 9,
   "id": "907111bd",
   "metadata": {},
   "outputs": [],
   "source": [
    "def make_ID_dict(df):\n",
    "    ID_dict = {}\n",
    "    for index, row in df.iterrows():\n",
    "        ID_dict[row[1]] = row[0]\n",
    "    return ID_dict\n",
    "\n",
    "UserNodeID_dict = make_ID_dict(sorted_unique_user_ids_df)\n",
    "BookNodeID_dict = make_ID_dict(sorted_unique_book_ids_df)\n",
    "\n",
    "####### 매핑 진행\n",
    "dataset['User-ID'] = dataset['User-ID'].map(UserNodeID_dict)\n",
    "dataset['Book-ID'] = dataset['Book-ID'].map(BookNodeID_dict)"
   ]
  },
  {
   "cell_type": "markdown",
   "id": "cfb633ef",
   "metadata": {},
   "source": [
    "## node feature\n"
   ]
  },
  {
   "cell_type": "code",
   "execution_count": 10,
   "id": "4ac119e0",
   "metadata": {},
   "outputs": [],
   "source": [
    "num_user_nodes = len(dataset['User-ID'].unique().tolist())\n",
    "num_book_nodes = len(dataset['Book-ID'].unique().tolist())\n",
    "\n",
    "user_ids = dataset['User-ID'].unique().tolist()  # 유니크 처리함\n",
    "book_ids = dataset['Book-ID'].unique().tolist()"
   ]
  },
  {
   "cell_type": "code",
   "execution_count": 11,
   "id": "6efb7ade",
   "metadata": {},
   "outputs": [],
   "source": [
    "num_users = max(user_ids) + 1\n",
    "num_books = max(book_ids) - num_user_nodes + 1\n",
    "\n",
    "feature_dim = 80  # age (1) + location (29)  # title (20) + publisher (10)\n",
    "\n",
    "user_features = np.zeros((num_user_nodes, feature_dim))\n",
    "book_features = np.zeros((num_book_nodes, feature_dim))"
   ]
  },
  {
   "cell_type": "code",
   "execution_count": 12,
   "id": "891b5217",
   "metadata": {},
   "outputs": [],
   "source": [
    "from sklearn.preprocessing import StandardScaler\n",
    "\n",
    "# user_id와 book_id는 이미 정수로 매핑되어 있다고 가정\n",
    "scaler = StandardScaler()\n",
    "\n",
    "# 스케일링을 개별적으로 수행\n",
    "age_tensor_scaled = scaler.fit_transform(age_tensor.reshape(-1, 1))\n",
    "location_embeddings_scaled = scaler.fit_transform(location_embeddings)\n",
    "\n",
    "for user_id, age, location in zip(user_ids, age_tensor_scaled, location_embeddings_scaled):\n",
    "    user_features[user_id] = np.concatenate([age, location], axis=0)\n",
    "\n",
    "title_embeddings_scaled = scaler.fit_transform(reduced_title_embeddings)\n",
    "publisher_embeddings_scaled = scaler.fit_transform(publisher_embeddings)\n",
    "\n",
    "for book_id, title, publisher in zip(book_ids, title_embeddings_scaled, publisher_embeddings_scaled):\n",
    "    book_features[book_id - num_user_nodes] = np.concatenate([title, publisher], axis=0)\n",
    "    \n",
    "# 사용자 노드 행렬과 도서 노드 행렬을 세로로 연결하여 최종 node_features 행렬 생성:    \n",
    "node_features = np.vstack((user_features, book_features))"
   ]
  },
  {
   "cell_type": "code",
   "execution_count": 13,
   "id": "47d3527f",
   "metadata": {
    "scrolled": true
   },
   "outputs": [],
   "source": [
    "from torch_geometric.data import Data\n",
    "\n",
    "node_feature_matrix = torch.tensor(node_features, dtype=torch.float)\n",
    "edge_attr = torch.tensor(dataset['Book-Rating'].values, dtype=torch.float).unsqueeze(-1)\n",
    "edge_index = torch.tensor(dataset[['User-ID', 'Book-ID']].values, dtype=torch.long).t().contiguous()\n",
    "\n",
    "data = Data(x=node_feature_matrix,\n",
    "            edge_index=edge_index,\n",
    "            edge_attr=edge_attr)"
   ]
  },
  {
   "cell_type": "code",
   "execution_count": 14,
   "id": "210f26aa",
   "metadata": {},
   "outputs": [
    {
     "data": {
      "text/plain": [
       "Data(x=[326697, 80], edge_index=[2, 871393], edge_attr=[871393, 1])"
      ]
     },
     "execution_count": 14,
     "metadata": {},
     "output_type": "execute_result"
    }
   ],
   "source": [
    "data.to(device)"
   ]
  },
  {
   "cell_type": "code",
   "execution_count": 15,
   "id": "2530a023",
   "metadata": {},
   "outputs": [],
   "source": [
    "train_user_ids = np.unique(dataset['User-ID'].values)\n",
    "train_book_ids = np.unique(dataset['Book-ID'].values)\n",
    "train_node_ids = np.concatenate((train_user_ids, train_book_ids))\n",
    "train_idx = torch.tensor(train_node_ids, dtype=torch.long)"
   ]
  },
  {
   "cell_type": "markdown",
   "id": "f467d9e2",
   "metadata": {},
   "source": [
    "# GraphSAGE"
   ]
  },
  {
   "cell_type": "code",
   "execution_count": 16,
   "id": "6f8c5e5d",
   "metadata": {},
   "outputs": [],
   "source": [
    "import torch\n",
    "import torch.nn.functional as F\n",
    "from torch_geometric.nn import MessagePassing\n",
    "from torch_geometric.utils import add_self_loops, degree\n",
    "\n",
    "class CustomSAGEConv(MessagePassing):\n",
    "    def __init__(self, in_channels, out_channels):\n",
    "        super(CustomSAGEConv, self).__init__(aggr='mean')\n",
    "        self.lin = torch.nn.Linear(in_channels, out_channels)\n",
    "\n",
    "    def forward(self, x, edge_index, edge_attr):\n",
    "        edge_index, _ = add_self_loops(edge_index, num_nodes=x.size(0))\n",
    "        edge_attr = torch.cat([edge_attr, torch.zeros(x.size(0), 1, device=edge_attr.device)], dim=0)  # Add zeros for self-loops\n",
    "        return self.propagate(edge_index, x=x, edge_attr=edge_attr)\n",
    "\n",
    "    def message(self, x_j, edge_attr):\n",
    "        return x_j * edge_attr.view(-1, 1)\n",
    "\n",
    "    def update(self, aggr_out):\n",
    "        return self.lin(aggr_out)"
   ]
  },
  {
   "cell_type": "code",
   "execution_count": 17,
   "id": "fed04cd5",
   "metadata": {},
   "outputs": [],
   "source": [
    "class GraphSAGE(torch.nn.Module):\n",
    "    def __init__(self, in_channels, hidden_channels, out_channels, num_layers):\n",
    "        super(GraphSAGE, self).__init__()\n",
    "\n",
    "        self.num_layers = num_layers\n",
    "\n",
    "        self.convs = torch.nn.ModuleList()\n",
    "        self.convs.append(CustomSAGEConv(in_channels, hidden_channels))\n",
    "        for _ in range(num_layers - 2):\n",
    "            self.convs.append(CustomSAGEConv(hidden_channels, hidden_channels))\n",
    "        self.convs.append(CustomSAGEConv(hidden_channels, out_channels))\n",
    "\n",
    "    def forward(self, x, adjs, edge_attrs, pos_pair=None, neg_pair=None):\n",
    "        for i, (edge_index, edge_attr, size) in enumerate(zip(adjs, edge_attrs)):\n",
    "            x_target = x[:size[1]]  # Target nodes are always placed first.\n",
    "            x = self.convs[i](x, edge_index, edge_attr)\n",
    "            if i != self.num_layers - 1:\n",
    "                x = x.relu()\n",
    "                x = F.dropout(x, p=0.5, training=self.training)\n",
    "\n",
    "        if pos_pair is not None and neg_pair is not None:\n",
    "            pos_out = x[pos_pair[0]], x[pos_pair[1]]\n",
    "            neg_out = x[neg_pair[0]], x[neg_pair[1]]\n",
    "            return pos_out, neg_out\n",
    "\n",
    "        return x"
   ]
  },
  {
   "cell_type": "code",
   "execution_count": 18,
   "id": "edea4e17",
   "metadata": {},
   "outputs": [],
   "source": [
    "import torch\n",
    "from torch.nn import functional as F\n",
    "\n",
    "def nce_loss(pos_out, neg_out, neg_sample_size):\n",
    "    pos_out = pos_out.view(-1).unsqueeze(0)\n",
    "    neg_out = neg_out.view(-1).unsqueeze(0)\n",
    "    \n",
    "    out = torch.cat((pos_out, neg_out), 1)\n",
    "    out = F.log_softmax(out * 100, dim=1)\n",
    "    return -out[0][0]"
   ]
  },
  {
   "cell_type": "code",
   "execution_count": 25,
   "id": "a3c29978",
   "metadata": {},
   "outputs": [],
   "source": [
    "def train(data, model, optimizer, neg_sample_size, device, epochs):\n",
    "    model = model.to(device)\n",
    "    data = data.to(device)\n",
    "\n",
    "    for epoch in range(epochs):\n",
    "        model.train()\n",
    "\n",
    "        total_nodes = data.x.size(0)\n",
    "\n",
    "        # Positive pair\n",
    "        pos_pair = data.edge_index\n",
    "\n",
    "        # Negative sampling\n",
    "        num_neg_samples = pos_pair.shape[1]\n",
    "        neg_nodes = torch.randint(0, total_nodes, (num_neg_samples * 2,), dtype=torch.long, device=device)\n",
    "\n",
    "        # Negative pair\n",
    "        neg_pair = torch.stack([data.edge_index[0], neg_nodes[:num_neg_samples]])\n",
    "\n",
    "        # Obtain the node embeddings\n",
    "        pos_out, neg_out = model(data.x, data.edge_index, data.edge_attr, pos_pair, neg_pair)\n",
    "\n",
    "        loss = nce_loss(pos_out, neg_out, neg_sample_size)\n",
    "\n",
    "        loss.backward()\n",
    "        optimizer.step()\n",
    "        optimizer.zero_grad()\n",
    "\n",
    "        print(f\"Epoch: {epoch+1}, Loss: {loss.item()}\")"
   ]
  },
  {
   "cell_type": "code",
   "execution_count": 26,
   "id": "1bc4456b",
   "metadata": {},
   "outputs": [
    {
     "data": {
      "text/plain": [
       "Data(x=[326697, 80], edge_index=[2, 871393], edge_attr=[871393, 1])"
      ]
     },
     "execution_count": 26,
     "metadata": {},
     "output_type": "execute_result"
    }
   ],
   "source": [
    "data"
   ]
  },
  {
   "cell_type": "code",
   "execution_count": 27,
   "id": "73b8e160",
   "metadata": {},
   "outputs": [
    {
     "ename": "ValueError",
     "evalue": "not enough values to unpack (expected 3, got 2)",
     "output_type": "error",
     "traceback": [
      "\u001b[0;31m---------------------------------------------------------------------------\u001b[0m",
      "\u001b[0;31mValueError\u001b[0m                                Traceback (most recent call last)",
      "Cell \u001b[0;32mIn[27], line 17\u001b[0m\n\u001b[1;32m     15\u001b[0m epochs \u001b[38;5;241m=\u001b[39m \u001b[38;5;241m20\u001b[39m\n\u001b[1;32m     16\u001b[0m neg_sample_size \u001b[38;5;241m=\u001b[39m \u001b[38;5;241m5\u001b[39m\n\u001b[0;32m---> 17\u001b[0m \u001b[43mtrain\u001b[49m\u001b[43m(\u001b[49m\u001b[43mdata\u001b[49m\u001b[43m,\u001b[49m\u001b[43m \u001b[49m\u001b[43mmodel\u001b[49m\u001b[43m,\u001b[49m\u001b[43m \u001b[49m\u001b[43moptimizer\u001b[49m\u001b[43m,\u001b[49m\u001b[43m \u001b[49m\u001b[43mneg_sample_size\u001b[49m\u001b[43m,\u001b[49m\u001b[43m \u001b[49m\u001b[43mdevice\u001b[49m\u001b[43m,\u001b[49m\u001b[43m \u001b[49m\u001b[43mepochs\u001b[49m\u001b[43m)\u001b[49m\n\u001b[1;32m     19\u001b[0m \u001b[38;5;66;03m# Extract embeddings\u001b[39;00m\n\u001b[1;32m     20\u001b[0m model\u001b[38;5;241m.\u001b[39meval()\n",
      "Cell \u001b[0;32mIn[25], line 21\u001b[0m, in \u001b[0;36mtrain\u001b[0;34m(data, model, optimizer, neg_sample_size, device, epochs)\u001b[0m\n\u001b[1;32m     18\u001b[0m neg_pair \u001b[38;5;241m=\u001b[39m torch\u001b[38;5;241m.\u001b[39mstack([data\u001b[38;5;241m.\u001b[39medge_index[\u001b[38;5;241m0\u001b[39m], neg_nodes[:num_neg_samples]])\n\u001b[1;32m     20\u001b[0m \u001b[38;5;66;03m# Obtain the node embeddings\u001b[39;00m\n\u001b[0;32m---> 21\u001b[0m pos_out, neg_out \u001b[38;5;241m=\u001b[39m \u001b[43mmodel\u001b[49m\u001b[43m(\u001b[49m\u001b[43mdata\u001b[49m\u001b[38;5;241;43m.\u001b[39;49m\u001b[43mx\u001b[49m\u001b[43m,\u001b[49m\u001b[43m \u001b[49m\u001b[43mdata\u001b[49m\u001b[38;5;241;43m.\u001b[39;49m\u001b[43medge_index\u001b[49m\u001b[43m,\u001b[49m\u001b[43m \u001b[49m\u001b[43mdata\u001b[49m\u001b[38;5;241;43m.\u001b[39;49m\u001b[43medge_attr\u001b[49m\u001b[43m,\u001b[49m\u001b[43m \u001b[49m\u001b[43mpos_pair\u001b[49m\u001b[43m,\u001b[49m\u001b[43m \u001b[49m\u001b[43mneg_pair\u001b[49m\u001b[43m)\u001b[49m\n\u001b[1;32m     23\u001b[0m loss \u001b[38;5;241m=\u001b[39m nce_loss(pos_out, neg_out, neg_sample_size)\n\u001b[1;32m     25\u001b[0m loss\u001b[38;5;241m.\u001b[39mbackward()\n",
      "File \u001b[0;32m~/miniconda3/lib/python3.10/site-packages/torch/nn/modules/module.py:1501\u001b[0m, in \u001b[0;36mModule._call_impl\u001b[0;34m(self, *args, **kwargs)\u001b[0m\n\u001b[1;32m   1496\u001b[0m \u001b[38;5;66;03m# If we don't have any hooks, we want to skip the rest of the logic in\u001b[39;00m\n\u001b[1;32m   1497\u001b[0m \u001b[38;5;66;03m# this function, and just call forward.\u001b[39;00m\n\u001b[1;32m   1498\u001b[0m \u001b[38;5;28;01mif\u001b[39;00m \u001b[38;5;129;01mnot\u001b[39;00m (\u001b[38;5;28mself\u001b[39m\u001b[38;5;241m.\u001b[39m_backward_hooks \u001b[38;5;129;01mor\u001b[39;00m \u001b[38;5;28mself\u001b[39m\u001b[38;5;241m.\u001b[39m_backward_pre_hooks \u001b[38;5;129;01mor\u001b[39;00m \u001b[38;5;28mself\u001b[39m\u001b[38;5;241m.\u001b[39m_forward_hooks \u001b[38;5;129;01mor\u001b[39;00m \u001b[38;5;28mself\u001b[39m\u001b[38;5;241m.\u001b[39m_forward_pre_hooks\n\u001b[1;32m   1499\u001b[0m         \u001b[38;5;129;01mor\u001b[39;00m _global_backward_pre_hooks \u001b[38;5;129;01mor\u001b[39;00m _global_backward_hooks\n\u001b[1;32m   1500\u001b[0m         \u001b[38;5;129;01mor\u001b[39;00m _global_forward_hooks \u001b[38;5;129;01mor\u001b[39;00m _global_forward_pre_hooks):\n\u001b[0;32m-> 1501\u001b[0m     \u001b[38;5;28;01mreturn\u001b[39;00m \u001b[43mforward_call\u001b[49m\u001b[43m(\u001b[49m\u001b[38;5;241;43m*\u001b[39;49m\u001b[43margs\u001b[49m\u001b[43m,\u001b[49m\u001b[43m \u001b[49m\u001b[38;5;241;43m*\u001b[39;49m\u001b[38;5;241;43m*\u001b[39;49m\u001b[43mkwargs\u001b[49m\u001b[43m)\u001b[49m\n\u001b[1;32m   1502\u001b[0m \u001b[38;5;66;03m# Do not call functions when jit is used\u001b[39;00m\n\u001b[1;32m   1503\u001b[0m full_backward_hooks, non_full_backward_hooks \u001b[38;5;241m=\u001b[39m [], []\n",
      "Cell \u001b[0;32mIn[17], line 14\u001b[0m, in \u001b[0;36mGraphSAGE.forward\u001b[0;34m(self, x, adjs, edge_attrs, pos_pair, neg_pair)\u001b[0m\n\u001b[1;32m     13\u001b[0m \u001b[38;5;28;01mdef\u001b[39;00m \u001b[38;5;21mforward\u001b[39m(\u001b[38;5;28mself\u001b[39m, x, adjs, edge_attrs, pos_pair\u001b[38;5;241m=\u001b[39m\u001b[38;5;28;01mNone\u001b[39;00m, neg_pair\u001b[38;5;241m=\u001b[39m\u001b[38;5;28;01mNone\u001b[39;00m):\n\u001b[0;32m---> 14\u001b[0m     \u001b[38;5;28;01mfor\u001b[39;00m i, (edge_index, edge_attr, size) \u001b[38;5;129;01min\u001b[39;00m \u001b[38;5;28menumerate\u001b[39m(\u001b[38;5;28mzip\u001b[39m(adjs, edge_attrs)):\n\u001b[1;32m     15\u001b[0m         x_target \u001b[38;5;241m=\u001b[39m x[:size[\u001b[38;5;241m1\u001b[39m]]  \u001b[38;5;66;03m# Target nodes are always placed first.\u001b[39;00m\n\u001b[1;32m     16\u001b[0m         x \u001b[38;5;241m=\u001b[39m \u001b[38;5;28mself\u001b[39m\u001b[38;5;241m.\u001b[39mconvs[i](x, edge_index, edge_attr)\n",
      "\u001b[0;31mValueError\u001b[0m: not enough values to unpack (expected 3, got 2)"
     ]
    }
   ],
   "source": [
    "from torch_geometric.data import NeighborSampler\n",
    "from torch.optim import AdamW\n",
    "\n",
    "device = torch.device('cuda' if torch.cuda.is_available() else 'cpu')\n",
    "data = data.to(device)\n",
    "\n",
    "# Model and optimizer\n",
    "model = GraphSAGE(in_channels=data.num_node_features, hidden_channels=64, out_channels=128, num_layers=2).to(device)\n",
    "optimizer = AdamW(model.parameters(), lr=0.01)\n",
    "\n",
    "# Data loader\n",
    "loader = NeighborSampler(edge_index=data.edge_index, sizes=[-1]*model.num_layers, batch_size=128)\n",
    "\n",
    "# Train the model\n",
    "epochs = 20\n",
    "neg_sample_size = 5\n",
    "train(data, model, optimizer, neg_sample_size, device, epochs)\n",
    "\n",
    "# Extract embeddings\n",
    "model.eval()\n",
    "with torch.no_grad():\n",
    "    x, _ = model(data.x, data.edge_index, data.edge_attr)"
   ]
  },
  {
   "cell_type": "code",
   "execution_count": null,
   "id": "4c19d28c",
   "metadata": {},
   "outputs": [],
   "source": [
    "chat과 상의한 마지막 부분의 코드를 아직 반영 안 했다. 결국 edge_attr을 전달하는 부분에 대한 내용인데, \n",
    "이거 내가 이미 고민하고 해결한 내용이다. 겁먹을 거 하나도 없다. \n",
    "\n",
    "++ 1번 노트의 코드를 확인하고, 문제를 차근히 확인, 에러 해결\n",
    "1. 완료된 코드를 라인별로 해석 요청\n",
    "2. 빠르게 비지도학습으로 임베딩 구하기\n",
    "3. 회귀모델 싹 뽑아서 캐글 식으로 앙상블하기 - LGBM 여러개 앙상블, (시간 나면 NCF)"
   ]
  },
  {
   "cell_type": "code",
   "execution_count": null,
   "id": "cc86b241",
   "metadata": {},
   "outputs": [],
   "source": []
  },
  {
   "cell_type": "code",
   "execution_count": null,
   "id": "a216a399",
   "metadata": {},
   "outputs": [],
   "source": []
  },
  {
   "cell_type": "code",
   "execution_count": null,
   "id": "231a4586",
   "metadata": {},
   "outputs": [],
   "source": []
  },
  {
   "cell_type": "code",
   "execution_count": null,
   "id": "a4a372ca",
   "metadata": {},
   "outputs": [],
   "source": []
  },
  {
   "cell_type": "code",
   "execution_count": null,
   "id": "a4adfa40",
   "metadata": {},
   "outputs": [],
   "source": []
  },
  {
   "cell_type": "code",
   "execution_count": null,
   "id": "671b9a78",
   "metadata": {},
   "outputs": [],
   "source": []
  }
 ],
 "metadata": {
  "kernelspec": {
   "display_name": "Python 3 (ipykernel)",
   "language": "python",
   "name": "python3"
  },
  "language_info": {
   "codemirror_mode": {
    "name": "ipython",
    "version": 3
   },
   "file_extension": ".py",
   "mimetype": "text/x-python",
   "name": "python",
   "nbconvert_exporter": "python",
   "pygments_lexer": "ipython3",
   "version": "3.10.9"
  }
 },
 "nbformat": 4,
 "nbformat_minor": 5
}
