{
 "cells": [
  {
   "cell_type": "code",
   "execution_count": 14,
   "id": "d934a4f3",
   "metadata": {},
   "outputs": [
    {
     "name": "stdout",
     "output_type": "stream",
     "text": [
      "Collecting fasttext\n",
      "  Downloading fasttext-0.9.2.tar.gz (68 kB)\n",
      "\u001b[2K     \u001b[90m━━━━━━━━━━━━━━━━━━━━━━━━━━━━━━━━━━━━━━━━\u001b[0m \u001b[32m68.8/68.8 kB\u001b[0m \u001b[31m4.2 MB/s\u001b[0m eta \u001b[36m0:00:00\u001b[0m\n",
      "\u001b[?25h  Preparing metadata (setup.py) ... \u001b[?25ldone\n",
      "\u001b[?25hCollecting pybind11>=2.2\n",
      "  Using cached pybind11-2.10.4-py3-none-any.whl (222 kB)\n",
      "Requirement already satisfied: setuptools>=0.7.0 in ./miniconda3/lib/python3.10/site-packages (from fasttext) (65.6.3)\n",
      "Requirement already satisfied: numpy in ./miniconda3/lib/python3.10/site-packages (from fasttext) (1.23.0)\n",
      "Building wheels for collected packages: fasttext\n",
      "  Building wheel for fasttext (setup.py) ... \u001b[?25ldone\n",
      "\u001b[?25h  Created wheel for fasttext: filename=fasttext-0.9.2-cp310-cp310-linux_x86_64.whl size=299067 sha256=8f0523b25f5c44c5f66dd86bd687a43ccd5d3a08091fcfe95ac00cdbe669fe90\n",
      "  Stored in directory: /home/conceptelling/.cache/pip/wheels/fc/22/93/1a3d535655339964fd8936d807ec85da466303d545023d2139\n",
      "Successfully built fasttext\n",
      "Installing collected packages: pybind11, fasttext\n",
      "Successfully installed fasttext-0.9.2 pybind11-2.10.4\n"
     ]
    }
   ],
   "source": [
    "!pip install fasttext"
   ]
  },
  {
   "cell_type": "code",
   "execution_count": 15,
   "id": "34b42751",
   "metadata": {},
   "outputs": [],
   "source": [
    "import fasttext"
   ]
  },
  {
   "cell_type": "code",
   "execution_count": 16,
   "id": "8ece10a5",
   "metadata": {},
   "outputs": [
    {
     "name": "stdout",
     "output_type": "stream",
     "text": [
      "--2023-04-28 03:18:31--  https://dl.fbaipublicfiles.com/fasttext/vectors-crawl/cc.en.300.bin.gz\n",
      "Resolving dl.fbaipublicfiles.com (dl.fbaipublicfiles.com)... 13.249.85.90, 13.249.85.39, 13.249.85.19, ...\n",
      "Connecting to dl.fbaipublicfiles.com (dl.fbaipublicfiles.com)|13.249.85.90|:443... connected.\n",
      "HTTP request sent, awaiting response... 200 OK\n",
      "Length: 4503593528 (4.2G) [application/octet-stream]\n",
      "Saving to: ‘cc.en.300.bin.gz’\n",
      "\n",
      "cc.en.300.bin.gz    100%[===================>]   4.19G   186MB/s    in 23s     \n",
      "\n",
      "2023-04-28 03:18:55 (184 MB/s) - ‘cc.en.300.bin.gz’ saved [4503593528/4503593528]\n",
      "\n"
     ]
    }
   ],
   "source": [
    "# 사전 훈련된 FastText 모델 다운로드\n",
    "!wget https://dl.fbaipublicfiles.com/fasttext/vectors-crawl/cc.en.300.bin.gz\n",
    "!gunzip cc.en.300.bin.gz"
   ]
  },
  {
   "cell_type": "code",
   "execution_count": 17,
   "id": "d80e2c85",
   "metadata": {},
   "outputs": [
    {
     "name": "stderr",
     "output_type": "stream",
     "text": [
      "Warning : `load_model` does not return WordVectorModel or SupervisedModel any more, but a `FastText` object which is very similar.\n"
     ]
    }
   ],
   "source": [
    "# FastText 모델 로드\n",
    "fasttext_model = fasttext.load_model(\"cc.en.300.bin\")"
   ]
  },
  {
   "cell_type": "code",
   "execution_count": 18,
   "id": "88e7091a",
   "metadata": {},
   "outputs": [],
   "source": [
    "def get_title_embedding_fasttext(title):\n",
    "    words = title.split()\n",
    "    if len(words) == 0:\n",
    "        return np.zeros(300)\n",
    "    embeddings = [fasttext_model.get_word_vector(word) for word in words]\n",
    "    return np.mean(embeddings, axis=0)"
   ]
  },
  {
   "cell_type": "code",
   "execution_count": 19,
   "id": "f2799dc8",
   "metadata": {},
   "outputs": [],
   "source": [
    "title_embeddings = train_data['Book-Title'].apply(get_title_embedding_fasttext).tolist()"
   ]
  },
  {
   "cell_type": "code",
   "execution_count": 20,
   "id": "ecfea05c",
   "metadata": {},
   "outputs": [
    {
     "name": "stdout",
     "output_type": "stream",
     "text": [
      "빈 문자열이거나 토큰화된 단어가 없는 책 제목의 개수: 0\n"
     ]
    }
   ],
   "source": [
    "empty_titles_count = 0\n",
    "for title in train_data['Book-Title']:\n",
    "    words = title.split()\n",
    "    if not words:\n",
    "        empty_titles_count += 1\n",
    "\n",
    "print(f\"빈 문자열이거나 토큰화된 단어가 없는 책 제목의 개수: {empty_titles_count}\")"
   ]
  },
  {
   "cell_type": "code",
   "execution_count": 21,
   "id": "aaa21fe9",
   "metadata": {},
   "outputs": [],
   "source": [
    "for idx, emb in enumerate(title_embeddings):\n",
    "    if not isinstance(emb, np.ndarray) or emb.shape != (300,):\n",
    "        print(f\"Index: {idx}, Title: {train_data['Book-Title'][idx]}, Embedding: {emb}\")"
   ]
  },
  {
   "cell_type": "code",
   "execution_count": 22,
   "id": "fe05e5df",
   "metadata": {},
   "outputs": [],
   "source": [
    "from sklearn.decomposition import PCA\n",
    "\n",
    "# PCA 객체를 생성\n",
    "pca = PCA(n_components=30)\n",
    "\n",
    "# 평균 임베딩 벡터로 구성된 리스트를 NumPy 배열로 변환\n",
    "title_embeddings_array = np.array(title_embeddings)\n",
    "\n",
    "# 차원 축소\n",
    "reduced_title_embeddings = pca.fit_transform(title_embeddings_array)"
   ]
  },
  {
   "cell_type": "code",
   "execution_count": 24,
   "id": "483724ac",
   "metadata": {},
   "outputs": [
    {
     "name": "stdout",
     "output_type": "stream",
     "text": [
      "reduced_title_embeddings.shape >>>  (871393, 30)\n",
      "[[-1.84071407e-01  7.39709064e-02  3.11346829e-01 ...  9.42201838e-02\n",
      "   8.59764591e-03 -7.14057684e-02]\n",
      " [-3.53375673e-02 -5.47084808e-02 -1.10605009e-01 ... -4.14647348e-02\n",
      "  -4.33949783e-04  2.02504173e-02]\n",
      " [-6.37408793e-02 -6.56020120e-02 -1.57652587e-01 ... -2.49061342e-02\n",
      "   3.32578644e-02  1.88359581e-02]\n",
      " ...\n",
      " [ 3.22970003e-01  4.46004570e-01 -1.57090873e-01 ...  1.29034137e-03\n",
      "  -1.06627531e-02  1.41104646e-02]\n",
      " [ 1.62676945e-02 -4.58159819e-02 -3.09608616e-02 ...  6.44903556e-02\n",
      "   7.00727745e-04  1.44635784e-02]\n",
      " [ 1.75540168e-02 -1.24135606e-01 -8.62156451e-02 ...  4.41524014e-02\n",
      "  -6.25252873e-02 -2.00788826e-02]]\n"
     ]
    }
   ],
   "source": [
    "print(\"reduced_title_embeddings.shape >>> \",reduced_title_embeddings.shape)\n",
    "print(reduced_title_embeddings)"
   ]
  },
  {
   "cell_type": "code",
   "execution_count": null,
   "id": "04bb3e35",
   "metadata": {},
   "outputs": [],
   "source": []
  }
 ],
 "metadata": {
  "kernelspec": {
   "display_name": "Python 3 (ipykernel)",
   "language": "python",
   "name": "python3"
  },
  "language_info": {
   "codemirror_mode": {
    "name": "ipython",
    "version": 3
   },
   "file_extension": ".py",
   "mimetype": "text/x-python",
   "name": "python",
   "nbconvert_exporter": "python",
   "pygments_lexer": "ipython3",
   "version": "3.10.9"
  }
 },
 "nbformat": 4,
 "nbformat_minor": 5
}
