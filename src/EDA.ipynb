{
 "cells": [
  {
   "cell_type": "code",
   "execution_count": null,
   "metadata": {},
   "outputs": [],
   "source": [
    "import pandas as pd\n",
    "import numpy as np\n",
    "import seaborn as sns\n",
    "import networkx as nx\n",
    "import matplotlib.pyplot as plt"
   ]
  },
  {
   "cell_type": "code",
   "execution_count": null,
   "metadata": {},
   "outputs": [],
   "source": [
    "data = pd.read_csv(\"./data/train.csv\")"
   ]
  },
  {
   "cell_type": "code",
   "execution_count": null,
   "metadata": {},
   "outputs": [],
   "source": [
    "data.info()"
   ]
  },
  {
   "cell_type": "markdown",
   "metadata": {},
   "source": [
    "# 노드 특성(Node features)\n",
    "* 도서 정보: 평점, 제목, 저자, 출판년도, 출판사, 장르(**←추후 NLP 기술을 통해 책을 장르별로 분류해 feature 생성 가능**) 등\n",
    "* 사용자 정보: 나이, 지역, 장르별 관심도(**←추후 NLP 기술을 통해 유저별 장르 관심도를 수치화해 feature로 생성 가능**) 등"
   ]
  },
  {
   "cell_type": "code",
   "execution_count": null,
   "metadata": {},
   "outputs": [],
   "source": [
    "from gensim.models import KeyedVectors\n",
    "\n",
    "# 사전 훈련된 Word2Vec 모델 로드\n",
    "word2vec = KeyedVectors.load_word2vec_format('path/to/word2vec_model.bin', binary=True)\n",
    "\n",
    "# 문자열 데이터를 벡터로 변환하는 함수\n",
    "def string_to_vector(text):\n",
    "    words = text.split()\n",
    "    word_vectors = [word2vec[word] for word in words if word in word2vec.vocab]\n",
    "    if len(word_vectors) == 0:\n",
    "        return np.zeros(word2vec.vector_size)\n",
    "    return np.mean(word_vectors, axis=0)\n",
    "\n",
    "# 제목, 저자, 출판사 데이터를 벡터로 변환\n",
    "data['Title-Vec'] = data['Book-Title'].apply(string_to_vector)\n",
    "data['Author-Vec'] = data['Book-Author'].apply(string_to_vector)\n",
    "data['Publisher-Vec'] = data['Publisher'].apply(string_to_vector)\n",
    "\n",
    "# 벡터로 변환된 데이터를 사용하여 노드 피처를 구성\n",
    "node_features = data[['User-ID', 'Book-ID', 'Title-Vec', 'Author-Vec', 'Publisher-Vec']]"
   ]
  },
  {
   "cell_type": "markdown",
   "metadata": {},
   "source": [
    "# 엣지 특성(Edge features):\n",
    "* 사용자 간 관계: 같은 지역\n",
    "* 사용자와 도서 간 관계: 평점"
   ]
  },
  {
   "cell_type": "code",
   "execution_count": null,
   "metadata": {},
   "outputs": [],
   "source": [
    "# 그래프 생성\n",
    "G = nx.Graph()\n",
    "\n",
    "# 노드 및 엣지 추가 (예: data 변수를 사용한다고 가정)\n",
    "# ...\n",
    "\n",
    "# 지역 정보를 기반으로 사용자 간 엣지 추가\n",
    "user_location = data[['User-ID', 'Location']].drop_duplicates()\n",
    "location_groups = user_location.groupby('Location')['User-ID'].apply(list)\n",
    "\n",
    "for _, user_list in location_groups.iteritems():\n",
    "    if len(user_list) > 1:\n",
    "        for i in range(len(user_list) - 1):\n",
    "            for j in range(i + 1, len(user_list)):\n",
    "                G.add_edge(user_list[i], user_list[j], weight=1)\n"
   ]
  },
  {
   "cell_type": "markdown",
   "metadata": {},
   "source": [
    "# 기초 통계량(Basic statistics)\n",
    "* 도서 수, 사용자 수\n",
    "* 사용자별 도서 평가 수, 나이 분포, 평균 평점 등\n",
    "* 장르별 도서 수, 평균 평점, 리뷰 수 등 (**←추후 feature 생성하고 진행**)"
   ]
  },
  {
   "cell_type": "code",
   "execution_count": null,
   "metadata": {},
   "outputs": [],
   "source": [
    "# 기초 통계량 계산\n",
    "unique_users = data['User-ID'].nunique()\n",
    "unique_books = data['Book-ID'].nunique()\n",
    "ratings_per_user = data.groupby('User-ID')['Book-Rating'].count()\n",
    "age_distribution = data['Age'].value_counts()\n",
    "average_rating = data['Book-Rating'].mean()\n",
    "\n",
    "# 기초 통계량 출력\n",
    "print(f\"사용자 수: {unique_users}\")\n",
    "print(f\"도서 수: {unique_books}\")\n",
    "print(f\"사용자별 도서 평가 수:\")\n",
    "print(ratings_per_user.describe())\n",
    "print(f\"나이 분포:\")\n",
    "print(age_distribution.head(10))  # 상위 10개 출력\n",
    "print(f\"평균 평점: {average_rating}\")"
   ]
  },
  {
   "cell_type": "markdown",
   "metadata": {},
   "source": [
    "# 결측치 및 이상치(Missing & Outliers)\n",
    "* 결측치: 도서 정보나 사용자 정보의 누락된 값 확인    \n",
    "    ㄴ 없음\n",
    "* 이상치: 예상치와 크게 다른 값들, 도서 평점의 분포 등"
   ]
  },
  {
   "cell_type": "code",
   "execution_count": null,
   "metadata": {},
   "outputs": [],
   "source": [
    "# 도서 평점 분포 확인\n",
    "plt.figure(figsize=(10, 5))\n",
    "sns.countplot(data['Book-Rating'])\n",
    "plt.title('도서 평점 분포')\n",
    "plt.xlabel('평점')\n",
    "plt.ylabel('빈도')\n",
    "plt.show()\n",
    "\n",
    "# 이상치 탐지: IQR 방식\n",
    "def detect_outliers_iqr(data, column):\n",
    "    Q1 = data[column].quantile(0.25)\n",
    "    Q3 = data[column].quantile(0.75)\n",
    "    IQR = Q3 - Q1\n",
    "    lower_bound = Q1 - 1.5 * IQR\n",
    "    upper_bound = Q3 + 1.5 * IQR\n",
    "    return data[(data[column] < lower_bound) | (data[column] > upper_bound)]\n",
    "\n",
    "# 이상치 탐지: 평균과 표준편차 방식\n",
    "def detect_outliers_std(data, column, threshold=3):\n",
    "    mean = data[column].mean()\n",
    "    std = data[column].std()\n",
    "    return data[np.abs(data[column] - mean) > (threshold * std)]\n",
    "\n",
    "# 이상치 탐지 결과 출력 (예: Age 열)\n",
    "outliers_iqr = detect_outliers_iqr(data, 'Age')\n",
    "outliers_std = detect_outliers_std(data, 'Age')\n",
    "\n",
    "print(f\"IQR 방식으로 검출된 이상치 개수: {len(outliers_iqr)}\")\n",
    "print(f\"평균과 표준편차 방식으로 검출된 이상치 개수: {len(outliers_std)}\")"
   ]
  },
  {
   "cell_type": "markdown",
   "metadata": {},
   "source": [
    "# 그래프 구조(Graph structure)\n",
    "* 연결 밀도(Density): 전체 가능한 연결 중 실제 연결 비율    \n",
    "* 중심성(Centrality): 중요한 노드를 파악하는 지표 (차수 중심성, 근접 중심성, 매개 중심성 등)\n",
    "* 커뮤니티(Community): 서로 밀접하게 연결된 노드 그룹\n",
    "* 직경(Diameter) 및 평균 최단 경로 길이(Average shortest path length): 그래프의 전체 연결 정도를 나타냄"
   ]
  },
  {
   "cell_type": "code",
   "execution_count": null,
   "metadata": {},
   "outputs": [],
   "source": [
    "G = nx.Graph()\n",
    "\n",
    "# 노드 추가\n",
    "G.add_nodes_from(data['User-ID'].unique(), node_type='user')\n",
    "G.add_nodes_from(data['Book-ID'].unique(), node_type='book')\n",
    "\n",
    "# 엣지 추가\n",
    "edges = [(row['User-ID'], row['Book-ID'], {'rating': row['Book-Rating']}) for _, row in data.iterrows()]\n",
    "G.add_edges_from(edges)\n",
    "\n",
    "# 그래프 정보 출력\n",
    "print(f\"노드 개수: {G.number_of_nodes()}\")\n",
    "print(f\"엣지 개수: {G.number_of_edges()}\")\n",
    "\n",
    "# 연결 밀도(Density)\n",
    "density = nx.density(G)\n",
    "print(f\"연결 밀도(Density): {density}\")\n",
    "\n",
    "# 중심성(Centrality)\n",
    "degree_centrality = nx.degree_centrality(G)\n",
    "\n",
    "# 그래프 시각화 (선택 사항)\n",
    "# nx.draw(G, with_labels=True, node_size=30, font_size=8)\n",
    "# plt.show()"
   ]
  },
  {
   "cell_type": "code",
   "execution_count": null,
   "metadata": {},
   "outputs": [],
   "source": [
    "# 특성 간 상관관계(Correlations between features)\n",
    "* 도서 특성 간 상관관계: 장르별 평균 평점, 장르별 판매량 등\n",
    "* 사용자 특성 간 상관관계: 나이와 관심 장르, 성별과 평점 분포 등"
   ]
  },
  {
   "cell_type": "code",
   "execution_count": null,
   "metadata": {},
   "outputs": [],
   "source": []
  }
 ],
 "metadata": {
  "language_info": {
   "name": "python"
  },
  "orig_nbformat": 4
 },
 "nbformat": 4,
 "nbformat_minor": 2
}
