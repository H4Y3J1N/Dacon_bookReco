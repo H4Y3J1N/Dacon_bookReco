{
 "cells": [
  {
   "cell_type": "code",
   "execution_count": null,
   "metadata": {},
   "outputs": [],
   "source": [
    "import torch\n",
    "import torch.nn.functional as F\n",
    "from torch_geometric.data import Data\n",
    "from torch_geometric.nn import SAGEConv\n",
    "import pandas as pd\n",
    "import numpy as np\n",
    "from torch_geometric.loader import NeighborLoader\n",
    "from torch_geometric.nn import SAGEConv, GAE\n",
    "from torch.optim.lr_scheduler import StepLR\n",
    "from tqdm import tqdm"
   ]
  },
  {
   "cell_type": "code",
   "execution_count": null,
   "metadata": {},
   "outputs": [],
   "source": [
    "device = 'cuda' if torch.cuda.is_available() else 'cpu'\n",
    "print(device)"
   ]
  },
  {
   "cell_type": "code",
   "execution_count": null,
   "metadata": {},
   "outputs": [],
   "source": [
    "data = pd.read_csv(\"./data/train.csv\")"
   ]
  },
  {
   "cell_type": "code",
   "execution_count": null,
   "metadata": {},
   "outputs": [],
   "source": [
    "# 데이터 전처리\n",
    "# 데이터에서 유저 정보와 도서 정보를 가져옵니다.\n",
    "users = data[['User-ID', 'Age']].drop_duplicates().reset_index(drop=True)\n",
    "books = data[['Book-ID', 'Year-Of-Publication']].drop_duplicates().reset_index(drop=True)\n",
    "\n",
    "# 범주형 데이터를 수치형으로 변환합니다.\n",
    "users['User-ID'] = users['User-ID'].astype('category').cat.codes\n",
    "books['Book-ID'] = books['Book-ID'].astype('category').cat.codes\n",
    "\n",
    "# 연령과 출판년도를 정규화합니다.\n",
    "users['Age'] = (users['Age'] - users['Age'].min()) / (users['Age'].max() - users['Age'].min())\n",
    "books['Year-Of-Publication'] = (books['Year-Of-Publication'] - books['Year-Of-Publication'].min()) / (books['Year-Of-Publication'].max() - books['Year-Of-Publication'].min())\n",
    "\n",
    "# 'User-ID'와 'Book-ID' 컬럼의 데이터 타입을 int32로 변경합니다.\n",
    "data['User-ID'] = pd.to_numeric(data['User-ID'], errors='coerce', downcast='integer')\n",
    "data['Book-ID'] = pd.to_numeric(data['Book-ID'], errors='coerce', downcast='integer')\n",
    "\n",
    "# 유저와 도서 정보를 하나의 데이터 프레임으로 합칩니다.\n",
    "data_processed = data.merge(users, on='User-ID').merge(books, on='Book-ID')\n",
    "\n",
    "\n",
    "# 노드 피처를 생성합니다.\n",
    "node_features = torch.tensor(pd.concat([users['Age'], books['Year-Of-Publication']]).values, dtype=torch.float).unsqueeze(1)\n",
    "\n",
    "# 엣지 인덱스를 생성합니다.\n",
    "edge_index = torch.tensor(data_processed[['User-ID', 'Book-ID']].values, dtype=torch.long).t().contiguous()\n",
    "\n",
    "# 타겟 값(도서 평점)을 생성합니다.\n",
    "target = torch.tensor(data_processed['Book-Rating'].values, dtype=torch.float)"
   ]
  },
  {
   "cell_type": "code",
   "execution_count": null,
   "metadata": {},
   "outputs": [],
   "source": [
    "edge_attr = torch.tensor(data['Book-Rating'].values, dtype=torch.float32)"
   ]
  },
  {
   "cell_type": "code",
   "execution_count": null,
   "metadata": {},
   "outputs": [],
   "source": [
    "graph_data = Data(x=node_features, edge_index=edge_index, y=target)"
   ]
  },
  {
   "cell_type": "code",
   "execution_count": null,
   "metadata": {},
   "outputs": [],
   "source": [
    "gSAGE_loader = NeighborLoader(\n",
    "    graph_data,\n",
    "    num_neighbors=[10,10],\n",
    "    batch_size=512)"
   ]
  },
  {
   "cell_type": "code",
   "execution_count": null,
   "metadata": {},
   "outputs": [],
   "source": [
    "class WeightedSAGEConv(SAGEConv):\n",
    "    def __init__(self, in_channels, out_channels, **kwargs):\n",
    "        super(WeightedSAGEConv, self).__init__(in_channels, out_channels, **kwargs)\n",
    "\n",
    "    def forward(self, x, edge_index, edge_weight=None):\n",
    "        x = self.convs[i]((x, x_target), edge_index, edge_weight=edge_attr)\n",
    "        return super(WeightedSAGEConv, self).forward(x, edge_index, edge_weight)\n",
    "\n",
    "\n",
    "class GraphSAGE(torch.nn.Module):\n",
    "    def __init__(self, in_channels, hidden_channels, out_channels, num_layers):\n",
    "        super(GraphSAGE, self).__init__()\n",
    "\n",
    "        self.num_layers = num_layers\n",
    "        self.convs = torch.nn.ModuleList()\n",
    "\n",
    "        # Input layer\n",
    "        self.convs.append(WeightedSAGEConv(in_channels, hidden_channels))\n",
    "\n",
    "        # Hidden layers\n",
    "        for _ in range(num_layers - 2):\n",
    "            self.convs.append(WeightedSAGEConv(hidden_channels, hidden_channels))\n",
    "\n",
    "        # Output layer\n",
    "        self.convs.append(WeightedSAGEConv(hidden_channels, out_channels))\n",
    "\n",
    "    def forward(self, x, adjs):\n",
    "        for i, (edge_index, edge_attr, size) in enumerate(adjs):\n",
    "            x_target = x[:size[1]]  # Target node features\n",
    "            x = self.convs[i]((x, x_target), edge_index, edge_weight=edge_attr)\n",
    "\n",
    "            if i != self.num_layers - 1:\n",
    "                x = F.relu(x)\n",
    "                x = F.dropout(x, p=0.5, training=self.training)\n",
    "        return x"
   ]
  },
  {
   "cell_type": "code",
   "execution_count": null,
   "metadata": {},
   "outputs": [],
   "source": [
    "out_channels = 16\n",
    "num_features = graph_data.x.shape[1]\n",
    "hidden_channels = 32\n",
    "num_layers = 4\n",
    "model = GAE(GraphSAGE(num_features, hidden_channels, out_channels, num_layers)).to(device)\n",
    "optimizer = torch.optim.Adam(model.parameters(), lr=0.005,weight_decay=1e-5)\n",
    "scheduler = StepLR(optimizer, step_size=2, gamma=0.1)"
   ]
  },
  {
   "cell_type": "code",
   "execution_count": null,
   "metadata": {},
   "outputs": [],
   "source": [
    "def train(loader):\n",
    "    total_loss = 0\n",
    "    for subgraph in tqdm(loader):\n",
    "        optimizer.zero_grad()\n",
    "        z = model(subgraph.x.float().to(device), subgraph.edge_index.to(device))\n",
    "        loss = model.recon_loss(z, pos_edge_index=subgraph.edge_index.to(device))\n",
    "        loss.backward()\n",
    "        optimizer.step()\n",
    "        total_loss += loss.item()\n",
    "    return total_loss / len(loader)"
   ]
  },
  {
   "cell_type": "code",
   "execution_count": null,
   "metadata": {},
   "outputs": [],
   "source": [
    "n_epochs = 30\n",
    "    \n",
    "for epoch in range(0,n_epochs):\n",
    "    loss,model = train(gSAGE_loader)\n",
    "    print(f'Epoch: {epoch:02d}, Loss: {loss:.4f}')"
   ]
  },
  {
   "cell_type": "code",
   "execution_count": null,
   "metadata": {},
   "outputs": [],
   "source": []
  },
  {
   "cell_type": "code",
   "execution_count": null,
   "metadata": {},
   "outputs": [],
   "source": []
  },
  {
   "cell_type": "code",
   "execution_count": null,
   "metadata": {},
   "outputs": [],
   "source": []
  },
  {
   "cell_type": "code",
   "execution_count": null,
   "metadata": {},
   "outputs": [],
   "source": []
  },
  {
   "cell_type": "code",
   "execution_count": null,
   "metadata": {},
   "outputs": [],
   "source": []
  }
 ],
 "metadata": {
  "language_info": {
   "name": "python"
  },
  "orig_nbformat": 4
 },
 "nbformat": 4,
 "nbformat_minor": 2
}
