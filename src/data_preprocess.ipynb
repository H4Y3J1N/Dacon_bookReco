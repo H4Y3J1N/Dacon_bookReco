{
 "cells": [
  {
   "cell_type": "code",
   "execution_count": null,
   "metadata": {},
   "outputs": [],
   "source": [
    "train_data = pd.read_csv(\"./data/train.csv\")"
   ]
  },
  {
   "cell_type": "code",
   "execution_count": null,
   "metadata": {},
   "outputs": [],
   "source": [
    "### Age, Year-Of-Publication\n",
    "\n",
    "from sklearn.preprocessing import MinMaxScaler\n",
    "\n",
    "features_to_scale = ['Age', 'Year-Of-Publication']\n",
    "\n",
    "scaler = MinMaxScaler()\n",
    "\n",
    "train_data[features_to_scale] = scaler.fit_transform(train_data[features_to_scale])"
   ]
  },
  {
   "cell_type": "code",
   "execution_count": null,
   "metadata": {},
   "outputs": [],
   "source": [
    "### Location  // nunique() > 442 > mapping : 151\n",
    "\n",
    "train_data['Location'] = train_data['Location'].apply(lambda x: x.split(', ')[-1].strip())\n",
    "\n",
    "with open(\"country_name_mapping.pkl\", \"rb\") as f:\n",
    "    country_name_mapping = pickle.load(f)\n",
    "    \n",
    "train_data['Location'] = train_data['Location'].apply(lambda x: country_name_mapping.get(x, x))\n",
    "    \n",
    "le = LabelEncoder()\n",
    "train_data['Location_encoded'] = le.fit_transform(train_data['Location'])\n",
    "\n",
    "embedding_layer = nn.Embedding(num_embeddings=151, embedding_dim=25)\n",
    "\n",
    "location_embeddings = embedding_layer(torch.arange(151))\n"
   ]
  },
  {
   "cell_type": "code",
   "execution_count": null,
   "metadata": {},
   "outputs": [],
   "source": [
    "location_embeddings_matrix = np.zeros((num_nodes, 25))\n",
    "\n",
    "for i, location_encoded in enumerate(train_data['Location_encoded']):\n",
    "    location_embeddings_matrix[i] = location_embeddings[location_encoded].numpy()\n",
    "\n",
    "X_new = np.concatenate([X, location_embeddings_matrix], axis=1)"
   ]
  },
  {
   "cell_type": "code",
   "execution_count": null,
   "metadata": {},
   "outputs": [],
   "source": [
    "### User-ID & Book-ID"
   ]
  },
  {
   "cell_type": "code",
   "execution_count": null,
   "metadata": {},
   "outputs": [],
   "source": []
  }
 ],
 "metadata": {
  "language_info": {
   "name": "python"
  },
  "orig_nbformat": 4
 },
 "nbformat": 4,
 "nbformat_minor": 2
}
